{
 "cells": [
  {
   "cell_type": "code",
   "execution_count": null,
   "source": [
    "    \"\"\"\n",
    "    Workflow\n",
    "    1. Generate 2 test entities for this\n",
    "        - The pooler bank (us)\n",
    "        - The user itself\n",
    "    2. Generate a test transaction\n",
    "    3. Link up with stripe for said transaction\n",
    "    \"\"\""
   ],
   "outputs": [],
   "metadata": {}
  },
  {
   "cell_type": "markdown",
   "source": [
    "# Plaid Endpoint"
   ],
   "metadata": {}
  },
  {
   "cell_type": "code",
   "execution_count": 1,
   "source": [
    "\n",
    "%load_ext dotenv\n",
    "%dotenv\n",
    "\n",
    "import plaid\n",
    "import os\n",
    "from plaid.api import plaid_api\n",
    "\n",
    "# Available environments are\n",
    "# 'Production'\n",
    "# 'Development'\n",
    "# 'Sandbox'\n",
    "configuration = plaid.Configuration(\n",
    "    host=plaid.Environment.Sandbox,\n",
    "    api_key={\n",
    "        'clientId': os.getenv('PLAID_CLIENT_ID'),\n",
    "        'secret': os.getenv('PLAID_SANDBOX_KEY'),\n",
    "    }\n",
    ")\n",
    "\n",
    "api_client = plaid.ApiClient(configuration)\n",
    "client = plaid_api.PlaidApi(api_client)\n"
   ],
   "outputs": [],
   "metadata": {}
  },
  {
   "cell_type": "markdown",
   "source": [
    "## Get Institutions by Id"
   ],
   "metadata": {}
  },
  {
   "cell_type": "code",
   "execution_count": 46,
   "source": [
    "from plaid.model.institutions_get_request import InstitutionsGetRequest\n",
    "from plaid.model.institutions_get_request_options import InstitutionsGetRequestOptions\n",
    "from plaid.model.country_code import CountryCode    # CountryCode.US\n",
    "\n",
    "product_list = ['payment_initiation', 'balance', 'assets', 'transactions']\n",
    "country_codes = ['US', 'GB', 'ES']\n",
    "request = InstitutionsGetRequest(\n",
    "    country_codes=[CountryCode(cc) for cc in country_codes],\n",
    "    count = 1,\n",
    "    offset= 0,\n",
    "    options = InstitutionsGetRequestOptions(oauth=True, products=[Products(p) for p in product_list])\n",
    ")\n",
    "\n",
    "response = client.institutions_get(request)\n",
    "institutions = response['institutions']\n",
    "institutions"
   ],
   "outputs": [
    {
     "output_type": "execute_result",
     "data": {
      "text/plain": [
       "[{'country_codes': ['GB'],\n",
       "  'institution_id': 'ins_127298',\n",
       "  'name': 'C. Hoare & Co',\n",
       "  'oauth': True,\n",
       "  'products': ['assets',\n",
       "               'auth',\n",
       "               'balance',\n",
       "               'transactions',\n",
       "               'identity',\n",
       "               'payment_initiation',\n",
       "               'standing_orders'],\n",
       "  'routing_numbers': []}]"
      ]
     },
     "metadata": {},
     "execution_count": 46
    }
   ],
   "metadata": {}
  },
  {
   "cell_type": "markdown",
   "source": [
    "## Create dummy item"
   ],
   "metadata": {}
  },
  {
   "cell_type": "code",
   "execution_count": 2,
   "source": [
    "from plaid.model.sandbox_public_token_create_request import SandboxPublicTokenCreateRequest\n",
    "from plaid.model.products import Products\n",
    "from plaid.model.item_public_token_exchange_request import ItemPublicTokenExchangeRequest"
   ],
   "outputs": [],
   "metadata": {}
  },
  {
   "cell_type": "code",
   "execution_count": 4,
   "source": [
    "pt_request = SandboxPublicTokenCreateRequest(\n",
    "    institution_id=\"ins_127298\",\n",
    "    initial_products=[Products('transactions')]\n",
    ")\n",
    "pt_response = client.sandbox_public_token_create(pt_request)\n",
    "print(pt_response)\n",
    "\n",
    "# The generated public_token can now be\n",
    "# exchanged for an access_token\n",
    "\n",
    "# exchange_request = ItemPublicTokenExchangeRequest(\n",
    "#     public_token=pt_response['public_token']\n",
    "# )\n",
    "# exchange_response = client.item_public_token_exchange(exchange_request)\n",
    "# print(exchange_response)"
   ],
   "outputs": [],
   "metadata": {}
  },
  {
   "cell_type": "markdown",
   "source": [
    "## Query for account details"
   ],
   "metadata": {}
  },
  {
   "cell_type": "code",
   "execution_count": 53,
   "source": [
    "from plaid.model.accounts_get_request import AccountsGetRequest\n",
    "\n",
    "ACCESS_TOKEN_1 = 'access-sandbox-55938299-802e-419a-a37d-2d7805166c4b'\n",
    "ACCESS_TOKEN_2 = 'access-sandbox-5f744d07-7804-4254-881c-a239f3c160f0'\n",
    "request = AccountsGetRequest(access_token=ACCESS_TOKEN_1)\n",
    "response = client.accounts_get(request)\n",
    "accounts = response['accounts']\n",
    "accounts"
   ],
   "outputs": [
    {
     "output_type": "execute_result",
     "data": {
      "text/plain": [
       "[{'account_id': 'NvWAzBlRA9h9kyEJk83Gtw8l1K7rd6irlzady',\n",
       "  'balances': {'available': 100.0,\n",
       "               'current': 110.0,\n",
       "               'iso_currency_code': 'GBP',\n",
       "               'limit': None,\n",
       "               'unofficial_currency_code': None},\n",
       "  'mask': '0000',\n",
       "  'name': 'Plaid Checking',\n",
       "  'official_name': 'Plaid Gold Standard 0% Interest Checking',\n",
       "  'subtype': 'checking',\n",
       "  'type': 'depository'},\n",
       " {'account_id': 'PvGm3xKbmwh6xWpmxLA1ugA3yqlzJVswxnjaX',\n",
       "  'balances': {'available': 200.0,\n",
       "               'current': 210.0,\n",
       "               'iso_currency_code': 'GBP',\n",
       "               'limit': None,\n",
       "               'unofficial_currency_code': None},\n",
       "  'mask': '1111',\n",
       "  'name': 'Plaid Saving',\n",
       "  'official_name': 'Plaid Silver Standard 0.1% Interest Saving',\n",
       "  'subtype': 'savings',\n",
       "  'type': 'depository'},\n",
       " {'account_id': 'jBowy9GbwahQzw1nzR6rfDlK5BydX3CyNj9dZ',\n",
       "  'balances': {'available': None,\n",
       "               'current': 1000.0,\n",
       "               'iso_currency_code': 'GBP',\n",
       "               'limit': None,\n",
       "               'unofficial_currency_code': None},\n",
       "  'mask': '2222',\n",
       "  'name': 'Plaid CD',\n",
       "  'official_name': 'Plaid Bronze Standard 0.2% Interest CD',\n",
       "  'subtype': 'cd',\n",
       "  'type': 'depository'},\n",
       " {'account_id': '77r8Zx4p8etKMDonM6ezuygQ1o9VNvINEa3P1',\n",
       "  'balances': {'available': None,\n",
       "               'current': 410.0,\n",
       "               'iso_currency_code': 'GBP',\n",
       "               'limit': 2000.0,\n",
       "               'unofficial_currency_code': None},\n",
       "  'mask': '3333',\n",
       "  'name': 'Plaid Credit Card',\n",
       "  'official_name': 'Plaid Diamond 12.5% APR Interest Credit Card',\n",
       "  'subtype': 'credit card',\n",
       "  'type': 'credit'},\n",
       " {'account_id': 'elZbAGgvbzIN8ZlD87X6IZywLEdQAjcMqXPQE',\n",
       "  'balances': {'available': 43200.0,\n",
       "               'current': 43200.0,\n",
       "               'iso_currency_code': 'GBP',\n",
       "               'limit': None,\n",
       "               'unofficial_currency_code': None},\n",
       "  'mask': '4444',\n",
       "  'name': 'Plaid Money Market',\n",
       "  'official_name': 'Plaid Platinum Standard 1.85% Interest Money Market',\n",
       "  'subtype': 'money market',\n",
       "  'type': 'depository'},\n",
       " {'account_id': 'Qwn9xdrJ9kfBaRr6aPkbu7qezK9RwbhkNnBXZ',\n",
       "  'balances': {'available': None,\n",
       "               'current': 320.76,\n",
       "               'iso_currency_code': 'GBP',\n",
       "               'limit': None,\n",
       "               'unofficial_currency_code': None},\n",
       "  'mask': '5555',\n",
       "  'name': 'Plaid IRA',\n",
       "  'official_name': None,\n",
       "  'subtype': 'ira',\n",
       "  'type': 'investment'},\n",
       " {'account_id': 'ZX3dQZPqdJUlR6pZRxgrhJ4joNRqnXt8ovWpx',\n",
       "  'balances': {'available': None,\n",
       "               'current': 23631.9805,\n",
       "               'iso_currency_code': 'GBP',\n",
       "               'limit': None,\n",
       "               'unofficial_currency_code': None},\n",
       "  'mask': '6666',\n",
       "  'name': 'Plaid 401k',\n",
       "  'official_name': None,\n",
       "  'subtype': '401k',\n",
       "  'type': 'investment'},\n",
       " {'account_id': 'MvkErzy7EmhVbQzXbgKdtrPWk6wnoDiDj5kvk',\n",
       "  'balances': {'available': None,\n",
       "               'current': 65262.0,\n",
       "               'iso_currency_code': 'GBP',\n",
       "               'limit': None,\n",
       "               'unofficial_currency_code': None},\n",
       "  'mask': '7777',\n",
       "  'name': 'Plaid Student Loan',\n",
       "  'official_name': None,\n",
       "  'subtype': 'student',\n",
       "  'type': 'loan'},\n",
       " {'account_id': '1dnPNqzlPaT54E6N4jV3uLboMDXKn1tQnaVRE',\n",
       "  'balances': {'available': None,\n",
       "               'current': 56302.06,\n",
       "               'iso_currency_code': 'GBP',\n",
       "               'limit': None,\n",
       "               'unofficial_currency_code': None},\n",
       "  'mask': '8888',\n",
       "  'name': 'Plaid Mortgage',\n",
       "  'official_name': None,\n",
       "  'subtype': 'mortgage',\n",
       "  'type': 'loan'}]"
      ]
     },
     "metadata": {},
     "execution_count": 53
    }
   ],
   "metadata": {}
  },
  {
   "cell_type": "markdown",
   "source": [
    "## Transfer money to another client"
   ],
   "metadata": {}
  },
  {
   "cell_type": "code",
   "execution_count": 54,
   "source": [
    "\n",
    "from plaid.model.bank_transfer_create_request import BankTransferCreateRequest\n",
    "from plaid.model.bank_transfer_type import BankTransferType\n",
    "from plaid.model.bank_transfer_network import BankTransferNetwork\n",
    "from plaid.model.bank_transfer_user import BankTransferUser\n",
    "from plaid.model.ach_class import ACHClass\n",
    "\n",
    "request = BankTransferCreateRequest(\n",
    "    idempotency_key='random string',\n",
    "    access_token= ACCESS_TOKEN_2, # user unqiue, source\n",
    "    account_id='NvWAzBlRA9h9kyEJk83Gtw8l1K7rd6irlzady', # target\n",
    "    type=BankTransferType('credit'),\n",
    "    network=BankTransferNetwork('ach'),\n",
    "    amount='1.00',\n",
    "    iso_currency_code='USD',\n",
    "    description='payment',\n",
    "    user=BankTransferUser(legal_name='Firstname Lastname'),\n",
    "    metadata=None,\n",
    "    ach_class=ACHClass('ppd'),\n",
    "    custom_tag='',\n",
    "    origination_account_id = '11111111-1111-1111-1111-111111111111',\n",
    ")\n",
    "response = client.bank_transfer_create(request)\n",
    "bank_transfer = response['bank_transfer']"
   ],
   "outputs": [
    {
     "output_type": "error",
     "ename": "NameError",
     "evalue": "name 'ACHClass' is not defined",
     "traceback": [
      "\u001b[0;31m---------------------------------------------------------------------------\u001b[0m",
      "\u001b[0;31mNameError\u001b[0m                                 Traceback (most recent call last)",
      "\u001b[0;32m/var/folders/zr/g6y0qcv95lb7jfkh9453k21r0000gp/T/ipykernel_34901/679129600.py\u001b[0m in \u001b[0;36m<module>\u001b[0;34m\u001b[0m\n\u001b[1;32m     15\u001b[0m     \u001b[0muser\u001b[0m\u001b[0;34m=\u001b[0m\u001b[0mBankTransferUser\u001b[0m\u001b[0;34m(\u001b[0m\u001b[0mlegal_name\u001b[0m\u001b[0;34m=\u001b[0m\u001b[0;34m'Firstname Lastname'\u001b[0m\u001b[0;34m)\u001b[0m\u001b[0;34m,\u001b[0m\u001b[0;34m\u001b[0m\u001b[0;34m\u001b[0m\u001b[0m\n\u001b[1;32m     16\u001b[0m     \u001b[0mmetadata\u001b[0m\u001b[0;34m=\u001b[0m\u001b[0;32mNone\u001b[0m\u001b[0;34m,\u001b[0m\u001b[0;34m\u001b[0m\u001b[0;34m\u001b[0m\u001b[0m\n\u001b[0;32m---> 17\u001b[0;31m     \u001b[0mach_class\u001b[0m\u001b[0;34m=\u001b[0m\u001b[0mACHClass\u001b[0m\u001b[0;34m(\u001b[0m\u001b[0;34m'ppd'\u001b[0m\u001b[0;34m)\u001b[0m\u001b[0;34m,\u001b[0m\u001b[0;34m\u001b[0m\u001b[0;34m\u001b[0m\u001b[0m\n\u001b[0m\u001b[1;32m     18\u001b[0m     \u001b[0mcustom_tag\u001b[0m\u001b[0;34m=\u001b[0m\u001b[0;34m''\u001b[0m\u001b[0;34m,\u001b[0m\u001b[0;34m\u001b[0m\u001b[0;34m\u001b[0m\u001b[0m\n\u001b[1;32m     19\u001b[0m     \u001b[0morigination_account_id\u001b[0m \u001b[0;34m=\u001b[0m \u001b[0;34m'11111111-1111-1111-1111-111111111111'\u001b[0m\u001b[0;34m,\u001b[0m\u001b[0;34m\u001b[0m\u001b[0;34m\u001b[0m\u001b[0m\n",
      "\u001b[0;31mNameError\u001b[0m: name 'ACHClass' is not defined"
     ]
    }
   ],
   "metadata": {}
  },
  {
   "cell_type": "code",
   "execution_count": null,
   "source": [],
   "outputs": [],
   "metadata": {}
  }
 ],
 "metadata": {
  "orig_nbformat": 4,
  "language_info": {
   "name": "python",
   "version": "3.8.3",
   "mimetype": "text/x-python",
   "codemirror_mode": {
    "name": "ipython",
    "version": 3
   },
   "pygments_lexer": "ipython3",
   "nbconvert_exporter": "python",
   "file_extension": ".py"
  },
  "kernelspec": {
   "name": "python3",
   "display_name": "Python 3.8.3 64-bit ('mateoenv': venv)"
  },
  "interpreter": {
   "hash": "0d3b4e66c611328bda18916ce8845fbc2605eeea0c0dc7dc9a61d6b11712c118"
  }
 },
 "nbformat": 4,
 "nbformat_minor": 2
}